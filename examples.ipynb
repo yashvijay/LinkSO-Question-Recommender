{
 "cells": [
  {
   "cell_type": "code",
   "execution_count": 35,
   "metadata": {},
   "outputs": [],
   "source": [
    "# The usual preamble\n",
    "%matplotlib inline\n",
    "import pandas as pd\n",
    "import matplotlib.pyplot as plt\n",
    "import numpy as np\n",
    "import logging\n",
    "from gensim import corpora, models, similarities\n",
    "logging.basicConfig(format='%(asctime)s : %(levelname)s : %(message)s', level=logging.INFO)\n"
   ]
  },
  {
   "cell_type": "markdown",
   "metadata": {},
   "source": [
    "# Pandas\n",
    "\n",
    "pandas examples in context of our problem"
   ]
  },
  {
   "cell_type": "code",
   "execution_count": 3,
   "metadata": {},
   "outputs": [
    {
     "data": {
      "text/html": [
       "<div>\n",
       "<style scoped>\n",
       "    .dataframe tbody tr th:only-of-type {\n",
       "        vertical-align: middle;\n",
       "    }\n",
       "\n",
       "    .dataframe tbody tr th {\n",
       "        vertical-align: top;\n",
       "    }\n",
       "\n",
       "    .dataframe thead th {\n",
       "        text-align: right;\n",
       "    }\n",
       "</style>\n",
       "<table border=\"1\" class=\"dataframe\">\n",
       "  <thead>\n",
       "    <tr style=\"text-align: right;\">\n",
       "      <th></th>\n",
       "      <th>qID</th>\n",
       "      <th>qHeader</th>\n",
       "      <th>qDescription</th>\n",
       "      <th>topVotedAnswer</th>\n",
       "      <th>type</th>\n",
       "    </tr>\n",
       "  </thead>\n",
       "  <tbody>\n",
       "    <tr>\n",
       "      <th>0</th>\n",
       "      <td>27787264</td>\n",
       "      <td>pandas query throws error column name starts n...</td>\n",
       "      <td>trying perform query following dataframe works...</td>\n",
       "      <td>query uses pandas eval evaluate python express...</td>\n",
       "      <td>python</td>\n",
       "    </tr>\n",
       "    <tr>\n",
       "      <th>1</th>\n",
       "      <td>35651586</td>\n",
       "      <td>psycopg cursor already closed</td>\n",
       "      <td>using psycopg bunch queries need execute seque...</td>\n",
       "      <td>presumably connection dropped would need reest...</td>\n",
       "      <td>python</td>\n",
       "    </tr>\n",
       "    <tr>\n",
       "      <th>2</th>\n",
       "      <td>30342145</td>\n",
       "      <td>redemption setting display name</td>\n",
       "      <td>using add pst file attached pst outlook proble...</td>\n",
       "      <td>pst provider sometimes ignores specified displ...</td>\n",
       "      <td>python</td>\n",
       "    </tr>\n",
       "  </tbody>\n",
       "</table>\n",
       "</div>"
      ],
      "text/plain": [
       "        qID                                            qHeader  \\\n",
       "0  27787264  pandas query throws error column name starts n...   \n",
       "1  35651586                     psycopg cursor already closed    \n",
       "2  30342145                   redemption setting display name    \n",
       "\n",
       "                                        qDescription  \\\n",
       "0  trying perform query following dataframe works...   \n",
       "1  using psycopg bunch queries need execute seque...   \n",
       "2  using add pst file attached pst outlook proble...   \n",
       "\n",
       "                                      topVotedAnswer    type  \n",
       "0  query uses pandas eval evaluate python express...  python  \n",
       "1  presumably connection dropped would need reest...  python  \n",
       "2  pst provider sometimes ignores specified displ...  python  "
      ]
     },
     "execution_count": 3,
     "metadata": {},
     "output_type": "execute_result"
    }
   ],
   "source": [
    "pdf = pd.read_csv(\"data/linkSO/linkso/topublish/python/python_qid2all.txt\", sep ='\\t', \\\n",
    "                    names = ['qID', 'qHeader', 'qDescription', 'topVotedAnswer', 'type'])\n",
    "pdf['type']= 'python'\n",
    "\n",
    "pdf[:3]"
   ]
  },
  {
   "cell_type": "code",
   "execution_count": 4,
   "metadata": {},
   "outputs": [],
   "source": [
    "pyscore =pd.read_csv(\"data/linkSO/linkso/topublish/python/python_cosidf.txt\", sep ='\\t', \\\n",
    "                    names = ['qID_1', 'qID_2', 'score', 'label'], skiprows=1)\n",
    "\n",
    "trainids = pd.read_csv(\"data/linkSO/linkso/topublish/python/python_train_qid.txt\", sep = '\\t',\\\n",
    "                      names = ['qId'])\n",
    "testids = pd.read_csv(\"data/linkSO/linkso/topublish/python/python_test_qid.txt\", sep = '\\t',\\\n",
    "                      names = ['qId'])\n",
    "validids = pd.read_csv(\"data/linkSO/linkso/topublish/python/python_valid_qid.txt\", sep = '\\t',\\\n",
    "                      names = ['qId'])\n"
   ]
  },
  {
   "cell_type": "code",
   "execution_count": 5,
   "metadata": {},
   "outputs": [
    {
     "data": {
      "text/html": [
       "<div>\n",
       "<style scoped>\n",
       "    .dataframe tbody tr th:only-of-type {\n",
       "        vertical-align: middle;\n",
       "    }\n",
       "\n",
       "    .dataframe tbody tr th {\n",
       "        vertical-align: top;\n",
       "    }\n",
       "\n",
       "    .dataframe thead th {\n",
       "        text-align: right;\n",
       "    }\n",
       "</style>\n",
       "<table border=\"1\" class=\"dataframe\">\n",
       "  <thead>\n",
       "    <tr style=\"text-align: right;\">\n",
       "      <th></th>\n",
       "      <th>qID_1</th>\n",
       "      <th>qID_2</th>\n",
       "      <th>score</th>\n",
       "      <th>label</th>\n",
       "    </tr>\n",
       "  </thead>\n",
       "  <tbody>\n",
       "    <tr>\n",
       "      <th>0</th>\n",
       "      <td>37098725</td>\n",
       "      <td>36808565</td>\n",
       "      <td>0.758667</td>\n",
       "      <td>1</td>\n",
       "    </tr>\n",
       "    <tr>\n",
       "      <th>1</th>\n",
       "      <td>37098725</td>\n",
       "      <td>30049387</td>\n",
       "      <td>0.735980</td>\n",
       "      <td>0</td>\n",
       "    </tr>\n",
       "    <tr>\n",
       "      <th>2</th>\n",
       "      <td>37098725</td>\n",
       "      <td>25520945</td>\n",
       "      <td>0.656788</td>\n",
       "      <td>0</td>\n",
       "    </tr>\n",
       "  </tbody>\n",
       "</table>\n",
       "</div>"
      ],
      "text/plain": [
       "      qID_1     qID_2     score  label\n",
       "0  37098725  36808565  0.758667      1\n",
       "1  37098725  30049387  0.735980      0\n",
       "2  37098725  25520945  0.656788      0"
      ]
     },
     "execution_count": 5,
     "metadata": {},
     "output_type": "execute_result"
    }
   ],
   "source": [
    "pyscore[:3]"
   ]
  },
  {
   "cell_type": "code",
   "execution_count": 15,
   "metadata": {},
   "outputs": [
    {
     "data": {
      "text/plain": [
       "0    184894\n",
       "1      7406\n",
       "Name: label, dtype: int64"
      ]
     },
     "execution_count": 15,
     "metadata": {},
     "output_type": "execute_result"
    }
   ],
   "source": [
    "pyscore['label'].value_counts()"
   ]
  },
  {
   "cell_type": "code",
   "execution_count": 16,
   "metadata": {},
   "outputs": [
    {
     "data": {
      "text/plain": [
       "<matplotlib.axes._subplots.AxesSubplot at 0x7f62cebdba20>"
      ]
     },
     "execution_count": 16,
     "metadata": {},
     "output_type": "execute_result"
    },
    {
     "data": {
      "image/png": "[encoded data removed]",
      "text/plain": [
       "<Figure size 432x288 with 1 Axes>"
      ]
     },
     "metadata": {
      "needs_background": "light"
     },
     "output_type": "display_data"
    }
   ],
   "source": [
    "pyscore['score'].hist()"
   ]
  },
  {
   "cell_type": "code",
   "execution_count": 17,
   "metadata": {},
   "outputs": [
    {
     "data": {
      "text/plain": [
       "Index(['qID', 'qHeader', 'qDescription', 'topVotedAnswer', 'type'], dtype='object')"
      ]
     },
     "execution_count": 17,
     "metadata": {},
     "output_type": "execute_result"
    }
   ],
   "source": [
    "pdf.columns"
   ]
  },
  {
   "cell_type": "code",
   "execution_count": 6,
   "metadata": {},
   "outputs": [],
   "source": [
    "pdf.loc[:,'text']=pdf['qHeader']+pdf['qDescription']+pdf['topVotedAnswer']"
   ]
  },
  {
   "cell_type": "markdown",
   "metadata": {},
   "source": [
    "# Gensim\n",
    "\n",
    "Here we'll demonstrate the use of gensim for standar IR operations. But first we need to get vocabulary set and sparse representation of corpus."
   ]
  },
  {
   "cell_type": "code",
   "execution_count": 25,
   "metadata": {},
   "outputs": [],
   "source": [
    "documents=pdf['text'][:10]"
   ]
  },
  {
   "cell_type": "code",
   "execution_count": 26,
   "metadata": {},
   "outputs": [],
   "source": [
    "from collections import defaultdict\n",
    "frequency = defaultdict(int)\n",
    "for d in documents:\n",
    "    for token in d.split():\n",
    "        frequency[token]+=1\n",
    "        \n",
    "bowdocs = [[token for token in d.split(\" \") if frequency[token]>1] \n",
    "           for d in documents]"
   ]
  },
  {
   "cell_type": "code",
   "execution_count": 33,
   "metadata": {},
   "outputs": [
    {
     "name": "stderr",
     "output_type": "stream",
     "text": [
      "2018-12-07 10:24:19,252 : INFO : adding document #0 to Dictionary(0 unique tokens: [])\n",
      "2018-12-07 10:24:19,254 : INFO : built Dictionary(170 unique tokens: ['column', 'd', 'dataframe', 'error', 'expression']...) from 10 documents (total 592 corpus positions)\n"
     ]
    },
    {
     "name": "stdout",
     "output_type": "stream",
     "text": [
      "[(0, 3), (1, 1), (2, 1), (3, 2), (4, 2), (5, 1), (6, 1), (7, 1), (8, 1), (9, 1), (10, 2), (11, 2), (12, 3), (13, 1), (14, 1), (15, 4), (16, 6), (17, 2), (18, 2), (19, 3), (20, 2), (21, 1), (22, 1), (23, 3), (24, 2)]\n"
     ]
    }
   ],
   "source": [
    "dictionary = corpora.Dictionary(bowdocs)\n",
    "corpus=[dictionary.doc2bow(d.split(\" \")) for d in documents]\n",
    "print (corpus[0])"
   ]
  },
  {
   "cell_type": "code",
   "execution_count": 37,
   "metadata": {},
   "outputs": [
    {
     "name": "stderr",
     "output_type": "stream",
     "text": [
      "2018-12-07 10:25:48,860 : INFO : collecting document frequencies\n",
      "2018-12-07 10:25:48,863 : INFO : PROGRESS: processing document #0\n",
      "2018-12-07 10:25:48,865 : INFO : calculating IDF weights for 10 documents and 169 features (283 matrix non-zeros)\n"
     ]
    },
    {
     "name": "stdout",
     "output_type": "stream",
     "text": [
      "[(0, 0.25269990085615346), (1, 0.08423330028538448), (2, 0.08423330028538448), (3, 0.16846660057076895), (4, 0.24102121625491288), (5, 0.04795599244331254), (6, 0.08423330028538448), (7, 0.06301243557065488), (8, 0.08423330028538448), (9, 0.08423330028538448), (10, 0.12602487114130975), (11, 0.24102121625491288), (12, 0.25269990085615346), (13, 0.08423330028538448), (14, 0.06301243557065488), (15, 0.1069405109143317), (16, 0.5053998017123069), (17, 0.24102121625491288), (18, 0.24102121625491288), (19, 0.36153182438236936), (20, 0.24102121625491288), (21, 0.08423330028538448), (22, 0.01866732939801683), (23, 0.25269990085615346), (24, 0.12602487114130975)]\n"
     ]
    }
   ],
   "source": [
    "tfidf = models.TfidfModel(corpus)\n",
    "corpus_tfidf = tfidf[corpus]\n",
    "print (corpus_tfidf[0])"
   ]
  },
  {
   "cell_type": "code",
   "execution_count": null,
   "metadata": {},
   "outputs": [],
   "source": []
  }
 ],
 "metadata": {
  "kernelspec": {
   "display_name": "Python 3",
   "language": "python",
   "name": "python3"
  },
  "language_info": {
   "codemirror_mode": {
    "name": "ipython",
    "version": 3
   },
   "file_extension": ".py",
   "mimetype": "text/x-python",
   "name": "python",
   "nbconvert_exporter": "python",
   "pygments_lexer": "ipython3",
   "version": "3.6.6"
  }
 },
 "nbformat": 4,
 "nbformat_minor": 2
}
